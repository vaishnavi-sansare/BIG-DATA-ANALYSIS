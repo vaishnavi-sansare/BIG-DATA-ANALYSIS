{
 "cells": [
  {
   "cell_type": "code",
   "execution_count": 1,
   "id": "831ac67a",
   "metadata": {},
   "outputs": [],
   "source": [
    "from pyspark.sql import SparkSession"
   ]
  },
  {
   "cell_type": "code",
   "execution_count": 2,
   "id": "09186f86",
   "metadata": {},
   "outputs": [],
   "source": [
    "# Step 1: Create a Spark session\n",
    "spark = SparkSession.builder \\\n",
    "    .appName(\"Netflix Dataset Analysis\") \\\n",
    "    .getOrCreate()"
   ]
  },
  {
   "cell_type": "code",
   "execution_count": 4,
   "id": "5fb1f631",
   "metadata": {},
   "outputs": [],
   "source": [
    "# Step 2: Load the CSV dataset\n",
    "df = spark.read.csv(\"netflix_titles.csv\", header=True, inferSchema=True)"
   ]
  },
  {
   "cell_type": "code",
   "execution_count": 5,
   "id": "3e7518fb",
   "metadata": {},
   "outputs": [
    {
     "name": "stdout",
     "output_type": "stream",
     "text": [
      "root\n",
      " |-- show_id: string (nullable = true)\n",
      " |-- type: string (nullable = true)\n",
      " |-- title: string (nullable = true)\n",
      " |-- director: string (nullable = true)\n",
      " |-- cast: string (nullable = true)\n",
      " |-- country: string (nullable = true)\n",
      " |-- date_added: string (nullable = true)\n",
      " |-- release_year: string (nullable = true)\n",
      " |-- rating: string (nullable = true)\n",
      " |-- duration: string (nullable = true)\n",
      " |-- listed_in: string (nullable = true)\n",
      " |-- description: string (nullable = true)\n",
      "\n",
      "+-------+-------+--------------------+---------------+--------------------+-------------+------------------+------------+------+---------+--------------------+--------------------+\n",
      "|show_id|   type|               title|       director|                cast|      country|        date_added|release_year|rating| duration|           listed_in|         description|\n",
      "+-------+-------+--------------------+---------------+--------------------+-------------+------------------+------------+------+---------+--------------------+--------------------+\n",
      "|     s1|  Movie|Dick Johnson Is Dead|Kirsten Johnson|                NULL|United States|September 25, 2021|        2020| PG-13|   90 min|       Documentaries|As her father nea...|\n",
      "|     s2|TV Show|       Blood & Water|           NULL|Ama Qamata, Khosi...| South Africa|September 24, 2021|        2021| TV-MA|2 Seasons|International TV ...|After crossing pa...|\n",
      "|     s3|TV Show|           Ganglands|Julien Leclercq|Sami Bouajila, Tr...|         NULL|September 24, 2021|        2021| TV-MA| 1 Season|Crime TV Shows, I...|To protect his fa...|\n",
      "|     s4|TV Show|Jailbirds New Orl...|           NULL|                NULL|         NULL|September 24, 2021|        2021| TV-MA| 1 Season|Docuseries, Reali...|Feuds, flirtation...|\n",
      "|     s5|TV Show|        Kota Factory|           NULL|Mayur More, Jiten...|        India|September 24, 2021|        2021| TV-MA|2 Seasons|International TV ...|In a city of coac...|\n",
      "+-------+-------+--------------------+---------------+--------------------+-------------+------------------+------------+------+---------+--------------------+--------------------+\n",
      "only showing top 5 rows\n",
      "Total records: 8809\n"
     ]
    }
   ],
   "source": [
    "# Step 3: Explore the data\n",
    "df.printSchema()\n",
    "df.show(5)\n",
    "print(f\"Total records: {df.count()}\")"
   ]
  },
  {
   "cell_type": "code",
   "execution_count": 8,
   "id": "264fc41b",
   "metadata": {},
   "outputs": [],
   "source": [
    "from pyspark.sql.functions import col, sum, when\n"
   ]
  },
  {
   "cell_type": "code",
   "execution_count": 9,
   "id": "b57b9c76",
   "metadata": {},
   "outputs": [
    {
     "name": "stdout",
     "output_type": "stream",
     "text": [
      "+-------+----+-----+--------+----+-------+----------+------------+------+--------+---------+-----------+\n",
      "|show_id|type|title|director|cast|country|date_added|release_year|rating|duration|listed_in|description|\n",
      "+-------+----+-----+--------+----+-------+----------+------------+------+--------+---------+-----------+\n",
      "|      0|   1|    2|    2636| 826|    832|        13|           2|     6|       5|        3|          3|\n",
      "+-------+----+-----+--------+----+-------+----------+------------+------+--------+---------+-----------+\n",
      "\n"
     ]
    }
   ],
   "source": [
    "# Count nulls\n",
    "df.select([sum(when(col(c).isNull(), 1).otherwise(0)).alias(c) for c in df.columns]).show()\n"
   ]
  },
  {
   "cell_type": "code",
   "execution_count": 19,
   "id": "e55fbf08",
   "metadata": {},
   "outputs": [],
   "source": [
    "# Fill some columns with default values\n",
    "df_clean = df.fillna({\n",
    "    \"country\": \"Unknown\",\n",
    "    \"director\": \"No Director\",\n",
    "    \"cast\": \"No Cast\",\n",
    "    \"rating\": \"Not Rated\",\n",
    "    \"date_added\": \"Unknown\",\n",
    "    \"duration\": \"Unknown\",\n",
    "    \"listed_in\": \"Uncategorized\",\n",
    "    \"description\": \"No description available\"\n",
    "})\n"
   ]
  },
  {
   "cell_type": "code",
   "execution_count": 20,
   "id": "a8e61a6a",
   "metadata": {},
   "outputs": [
    {
     "name": "stdout",
     "output_type": "stream",
     "text": [
      "+-------+----+-----+--------+----+-------+----------+------------+------+--------+---------+-----------+\n",
      "|show_id|type|title|director|cast|country|date_added|release_year|rating|duration|listed_in|description|\n",
      "+-------+----+-----+--------+----+-------+----------+------------+------+--------+---------+-----------+\n",
      "|      0|   1|    2|       0|   0|      0|         0|           2|     0|       0|        0|          0|\n",
      "+-------+----+-----+--------+----+-------+----------+------------+------+--------+---------+-----------+\n",
      "\n"
     ]
    }
   ],
   "source": [
    "# Check that nulls are gone\n",
    "df_clean.select([sum(when(col(c).isNull(), 1).otherwise(0)).alias(c) for c in df_clean.columns]).show()"
   ]
  },
  {
   "cell_type": "code",
   "execution_count": 21,
   "id": "24ceab5b",
   "metadata": {},
   "outputs": [],
   "source": [
    "# Drop rows where release_year, title and typeis null\n",
    "df_clean = df_clean.dropna(subset=[\"release_year\",\"type\",\"title\"])"
   ]
  },
  {
   "cell_type": "code",
   "execution_count": 22,
   "id": "370b5956",
   "metadata": {},
   "outputs": [
    {
     "name": "stdout",
     "output_type": "stream",
     "text": [
      "+-------+----+-----+--------+----+-------+----------+------------+------+--------+---------+-----------+\n",
      "|show_id|type|title|director|cast|country|date_added|release_year|rating|duration|listed_in|description|\n",
      "+-------+----+-----+--------+----+-------+----------+------------+------+--------+---------+-----------+\n",
      "|      0|   0|    0|       0|   0|      0|         0|           0|     0|       0|        0|          0|\n",
      "+-------+----+-----+--------+----+-------+----------+------------+------+--------+---------+-----------+\n",
      "\n"
     ]
    }
   ],
   "source": [
    "# Check that nulls are gone\n",
    "df_clean.select([sum(when(col(c).isNull(), 1).otherwise(0)).alias(c) for c in df_clean.columns]).show()"
   ]
  },
  {
   "cell_type": "code",
   "execution_count": 23,
   "id": "288187a6",
   "metadata": {},
   "outputs": [],
   "source": [
    "# Step 4: Example Insights"
   ]
  },
  {
   "cell_type": "code",
   "execution_count": 34,
   "id": "80e22167",
   "metadata": {},
   "outputs": [
    {
     "name": "stdout",
     "output_type": "stream",
     "text": [
      "+-------+-----+\n",
      "|   type|count|\n",
      "+-------+-----+\n",
      "|TV Show| 2676|\n",
      "|  Movie| 6130|\n",
      "+-------+-----+\n",
      "\n"
     ]
    }
   ],
   "source": [
    "# 1) Count of Movies vs TV Shows\n",
    "df_clean.groupBy(\"type\").count().show()\n"
   ]
  },
  {
   "cell_type": "code",
   "execution_count": 35,
   "id": "a073ca42",
   "metadata": {},
   "outputs": [
    {
     "name": "stdout",
     "output_type": "stream",
     "text": [
      "+--------------+-----+\n",
      "|       country|count|\n",
      "+--------------+-----+\n",
      "| United States| 2805|\n",
      "|         India|  972|\n",
      "|       Unknown|  830|\n",
      "|United Kingdom|  419|\n",
      "|         Japan|  245|\n",
      "|   South Korea|  199|\n",
      "|        Canada|  181|\n",
      "|         Spain|  145|\n",
      "|        France|  123|\n",
      "|        Mexico|  110|\n",
      "+--------------+-----+\n",
      "only showing top 10 rows\n"
     ]
    }
   ],
   "source": [
    "# 2) Top 10 countries with most content\n",
    "df_clean.groupBy(\"country\").count().orderBy(\"count\", ascending=False).show(10)\n"
   ]
  },
  {
   "cell_type": "code",
   "execution_count": 26,
   "id": "9118e352",
   "metadata": {},
   "outputs": [
    {
     "name": "stdout",
     "output_type": "stream",
     "text": [
      "+-----------------+-----+\n",
      "|           rating|count|\n",
      "+-----------------+-----+\n",
      "|            TV-MA| 3195|\n",
      "|            TV-14| 2158|\n",
      "|            TV-PG|  862|\n",
      "|                R|  796|\n",
      "|            PG-13|  489|\n",
      "|            TV-Y7|  334|\n",
      "|             TV-Y|  307|\n",
      "|               PG|  286|\n",
      "|             TV-G|  220|\n",
      "|               NR|   80|\n",
      "|                G|   41|\n",
      "|             NULL|    6|\n",
      "|         TV-Y7-FV|    6|\n",
      "|               UR|    3|\n",
      "|            NC-17|    3|\n",
      "|             2021|    2|\n",
      "| November 1, 2020|    1|\n",
      "| Shavidee Trotter|    1|\n",
      "|    Adriane Lenox|    1|\n",
      "|    Maury Chaykin|    1|\n",
      "+-----------------+-----+\n",
      "only showing top 20 rows\n"
     ]
    }
   ],
   "source": [
    "# 3) Most common ratings\n",
    "df_clean.groupBy(\"rating\").count().orderBy(\"count\", ascending=False).show()"
   ]
  },
  {
   "cell_type": "code",
   "execution_count": 31,
   "id": "e59157c1",
   "metadata": {},
   "outputs": [
    {
     "name": "stdout",
     "output_type": "stream",
     "text": [
      "+--------------------+-------+--------------------+----------------+\n",
      "|               title|   type|             country|date_added_clean|\n",
      "+--------------------+-------+--------------------+----------------+\n",
      "|Dick Johnson Is Dead|  Movie|       United States|      2021-09-25|\n",
      "|       Blood & Water|TV Show|        South Africa|      2021-09-24|\n",
      "|           Ganglands|TV Show|             Unknown|      2021-09-24|\n",
      "|Jailbirds New Orl...|TV Show|             Unknown|      2021-09-24|\n",
      "|        Kota Factory|TV Show|               India|      2021-09-24|\n",
      "|       Midnight Mass|TV Show|             Unknown|      2021-09-24|\n",
      "|My Little Pony: A...|  Movie|             Unknown|      2021-09-24|\n",
      "|             Sankofa|  Movie|United States, Gh...|      2021-09-24|\n",
      "|The Great British...|TV Show|      United Kingdom|      2021-09-24|\n",
      "|        The Starling|  Movie|       United States|      2021-09-24|\n",
      "+--------------------+-------+--------------------+----------------+\n",
      "only showing top 10 rows\n"
     ]
    }
   ],
   "source": [
    "# 4) Recent releases: Shows added after 2020\n",
    "from pyspark.sql.functions import col, to_date, year\n",
    "\n",
    "df_new = df_clean.withColumn(\"date_added_clean\", to_date(col(\"date_added\"), \"MMMM d, yyyy\"))\n",
    "df_new.filter(year(col(\"date_added_clean\")) >= 2020).select(\"title\", \"type\", \"country\", \"date_added_clean\").show(10)\n"
   ]
  },
  {
   "cell_type": "code",
   "execution_count": 32,
   "id": "cb4ff3b0",
   "metadata": {},
   "outputs": [
    {
     "name": "stdout",
     "output_type": "stream",
     "text": [
      "+-----------------+-----+\n",
      "|     release_year|count|\n",
      "+-----------------+-----+\n",
      "|   Charles Rocket|    1|\n",
      "|          Dr. Dre|    1|\n",
      "|   Francis Weddey|    1|\n",
      "|     Imanol Arias|    1|\n",
      "|      Jade Eshete|    1|\n",
      "| Kristen Johnston|    1|\n",
      "| Marquell Manning|    1|\n",
      "|       Nick Kroll|    1|\n",
      "|    Nse Ikpe-Etim|    1|\n",
      "|       Paul Sambo|    1|\n",
      "+-----------------+-----+\n",
      "only showing top 10 rows\n"
     ]
    }
   ],
   "source": [
    "# 5) Number of shows by year\n",
    "df_clean.groupBy(\"release_year\").count().orderBy(\"release_year\").show(10)"
   ]
  },
  {
   "cell_type": "code",
   "execution_count": 37,
   "id": "862e6a7d",
   "metadata": {},
   "outputs": [
    {
     "name": "stdout",
     "output_type": "stream",
     "text": [
      "+--------+-------------+\n",
      "|duration|duration_mins|\n",
      "+--------+-------------+\n",
      "|  90 min|           90|\n",
      "|  91 min|           91|\n",
      "| 125 min|          125|\n",
      "| 104 min|          104|\n",
      "| 127 min|          127|\n",
      "|  91 min|           91|\n",
      "|  67 min|           67|\n",
      "|  94 min|           94|\n",
      "| 161 min|          161|\n",
      "|  61 min|           61|\n",
      "+--------+-------------+\n",
      "only showing top 10 rows\n",
      "+------------------+\n",
      "|avg_movie_duration|\n",
      "+------------------+\n",
      "|  99.8750204482251|\n",
      "+------------------+\n",
      "\n"
     ]
    }
   ],
   "source": [
    "# 6) Average duration for movies\n",
    "from pyspark.sql.functions import regexp_extract, when\n",
    "\n",
    "# Keep only Movies with non-null, valid numeric durations\n",
    "movies_df = df_clean.filter(col(\"type\") == \"Movie\")\n",
    "\n",
    "# Extract numbers safely using when\n",
    "movies_df = movies_df.withColumn(\n",
    "    \"duration_mins\",\n",
    "    when(\n",
    "        regexp_extract(\"duration\", r'(\\d+)', 1) != \"\",\n",
    "        regexp_extract(\"duration\", r'(\\d+)', 1).cast(\"int\")\n",
    "    ).otherwise(None)\n",
    ")\n",
    "\n",
    "# Verify: see some rows\n",
    "movies_df.select(\"duration\", \"duration_mins\").show(10)\n",
    "\n",
    "# Now safely compute the average\n",
    "movies_df.selectExpr(\"avg(duration_mins) as avg_movie_duration\").show()\n",
    "\n"
   ]
  },
  {
   "cell_type": "code",
   "execution_count": null,
   "id": "1adb7a5c",
   "metadata": {},
   "outputs": [],
   "source": []
  },
  {
   "cell_type": "code",
   "execution_count": null,
   "id": "3212bd93",
   "metadata": {},
   "outputs": [],
   "source": []
  }
 ],
 "metadata": {
  "kernelspec": {
   "display_name": "Python 3 (ipykernel)",
   "language": "python",
   "name": "python3"
  },
  "language_info": {
   "codemirror_mode": {
    "name": "ipython",
    "version": 3
   },
   "file_extension": ".py",
   "mimetype": "text/x-python",
   "name": "python",
   "nbconvert_exporter": "python",
   "pygments_lexer": "ipython3",
   "version": "3.10.9"
  }
 },
 "nbformat": 4,
 "nbformat_minor": 5
}
